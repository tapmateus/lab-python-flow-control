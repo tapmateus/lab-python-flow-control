{
 "cells": [
  {
   "cell_type": "markdown",
   "id": "d3bfc191-8885-42ee-b0a0-bbab867c6f9f",
   "metadata": {
    "tags": []
   },
   "source": [
    "# Lab | Flow Control"
   ]
  },
  {
   "cell_type": "markdown",
   "id": "3851fcd1-cf98-4653-9c89-e003b7ec9400",
   "metadata": {},
   "source": [
    "## Exercise: Managing Customer Orders Optimized\n",
    "\n",
    "In the last lab, you were starting an online store that sells various products. To ensure smooth operations, you developed a program that manages customer orders and inventory.\n",
    "\n",
    "You did so without using flow control. Let's go a step further and improve this code.\n",
    "\n",
    "Follow the steps below to complete the exercise:\n",
    "\n",
    "1. Look at your code from the lab data structures, and improve repeated code with loops.\n",
    "\n",
    "2. Instead of asking the user to input the name of three products that a customer wants to order, do the following:\n",
    "    \n",
    "    a. Prompt the user to enter the name of a product that a customer wants to order.\n",
    "    \n",
    "    b. Add the product name to the \"customer_orders\" set.\n",
    "    \n",
    "    c. Ask the user if they want to add another product (yes/no).\n",
    "    \n",
    "    d. Continue the loop until the user does not want to add another product.\n",
    "\n",
    "3. Instead of updating the inventory by subtracting 1 from the quantity of each product, only do it for  the products that were ordered (those in \"customer_orders\")."
   ]
  },
  {
   "cell_type": "code",
   "execution_count": 1,
   "id": "40eac95b",
   "metadata": {},
   "outputs": [
    {
     "name": "stdout",
     "output_type": "stream",
     "text": [
      "Insert quantity of t-shirt: 213231\n",
      "Insert quantity of mug: 321321\n",
      "Insert quantity of hat: 21312\n",
      "Insert quantity of book: 12312\n",
      "Insert quantity of keychain: 12312\n",
      "{'t-shirt': '213231', 'mug': '321321', 'hat': '21312', 'book': '12312', 'keychain': '12312'}\n",
      "{'t-shirt': 213230, 'mug': 321320, 'hat': 21311, 'book': 12311, 'keychain': 12311}\n"
     ]
    }
   ],
   "source": [
    "#Drom Data Structures LAB\n",
    "\n",
    "#Define a list called products\n",
    "products = [\"t-shirt\", \"mug\", \"hat\", \"book\", \"keychain\"]\n",
    "\n",
    "#Create an empty dictionary called inventory\n",
    "inventory = {}\n",
    "\n",
    "#Ask the user to input the quantity of each product available in the inventory\n",
    "quantitylist = []\n",
    "for product in products:\n",
    "    quantity = input(f\"Insert quantity of {product}: \")\n",
    "    quantitylist.append(quantity)\n",
    "\n",
    "x = 0\n",
    "for i in products:\n",
    "    inventory[i] = quantitylist[x]\n",
    "    x += 1\n",
    "\n",
    "print(inventory)\n",
    "\n",
    "#Update the inventory by subtracting 1 from the quantity of each product\n",
    "newquantitylst = []\n",
    "for i in quantitylist:\n",
    "    x = int(i) - 1\n",
    "    newquantitylst.append(x)\n",
    "\n",
    "x = 0\n",
    "for i in products:\n",
    "    inventory[i] = newquantitylst[x]\n",
    "    x += 1\n",
    "\n",
    "#Print the updated inventory\n",
    "print(inventory)"
   ]
  },
  {
   "cell_type": "code",
   "execution_count": 2,
   "id": "7fc14cb9",
   "metadata": {},
   "outputs": [
    {
     "name": "stdout",
     "output_type": "stream",
     "text": [
      "Enter the name of the product to order: book\n",
      "Do you want to add something to you order? (yes/no) no\n"
     ]
    },
    {
     "data": {
      "text/plain": [
       "{'book'}"
      ]
     },
     "execution_count": 2,
     "metadata": {},
     "output_type": "execute_result"
    }
   ],
   "source": [
    "#2.a Prompt the user to enter the name of a product that a customer wants to order.\n",
    "first_order = input(\"Enter the name of the product to order: \")\n",
    "\n",
    "#2.b Add the product name to the \"customer_orders\" set.\n",
    "customer_orders = set()\n",
    "customer_orders.add(first_order)\n",
    "\n",
    "#3.c Ask the user if they want to add another product (yes/no)\n",
    "asking_order = input(\"Do you want to add something to you order? (yes/no) \")\n",
    "\n",
    "#3.d Continue the loop until the user does not want to add another product.\n",
    "while asking_order == 'yes':\n",
    "    if asking_order == 'yes':\n",
    "        second_order = input(\"Enter the name of the product to order: \")\n",
    "        customer_orders.add(second_order)\n",
    "        asking_order = input(\"Do you want to add something to you order? Type 'yes' or 'no') \")\n",
    "        if asking_order == 'no':\n",
    "            print(\"Thanks for your order!\")\n",
    "    else:\n",
    "        print(\"Thanks for your order!\")\n",
    "\n",
    "customer_orders"
   ]
  },
  {
   "cell_type": "code",
   "execution_count": 5,
   "id": "e9463f01",
   "metadata": {},
   "outputs": [
    {
     "data": {
      "text/plain": [
       "{'t-shirt': 213230,\n",
       " 'mug': 321320,\n",
       " 'hat': 21311,\n",
       " 'book': 213230,\n",
       " 'keychain': 12311}"
      ]
     },
     "execution_count": 5,
     "metadata": {},
     "output_type": "execute_result"
    }
   ],
   "source": [
    "#3. Instead of updating the inventory by subtracting 1 from the quantity of each product, \n",
    "#   only do it for the products that were ordered (those in \"customer_orders\").\n",
    "\n",
    "list(customer_orders)\n",
    "\n",
    "t=0\n",
    "for i in customer_orders:\n",
    "    if i in products: \n",
    "        inventory[i] = (int(quantitylist[t]) - 1)\n",
    "        t += 1\n",
    "\n",
    "inventory"
   ]
  },
  {
   "cell_type": "code",
   "execution_count": null,
   "id": "4c0c3897",
   "metadata": {},
   "outputs": [],
   "source": []
  }
 ],
 "metadata": {
  "kernelspec": {
   "display_name": "Python 3 (ipykernel)",
   "language": "python",
   "name": "python3"
  },
  "language_info": {
   "codemirror_mode": {
    "name": "ipython",
    "version": 3
   },
   "file_extension": ".py",
   "mimetype": "text/x-python",
   "name": "python",
   "nbconvert_exporter": "python",
   "pygments_lexer": "ipython3",
   "version": "3.10.9"
  }
 },
 "nbformat": 4,
 "nbformat_minor": 5
}
